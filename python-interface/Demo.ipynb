{
 "cells": [
  {
   "cell_type": "markdown",
   "metadata": {},
   "source": [
    "Basic import stuff with lucene"
   ]
  },
  {
   "cell_type": "code",
   "execution_count": 2,
   "metadata": {},
   "outputs": [
    {
     "data": {
      "text/plain": [
       "<jcc.JCCEnv at 0x7f86051e5030>"
      ]
     },
     "execution_count": 2,
     "metadata": {},
     "output_type": "execute_result"
    }
   ],
   "source": [
    "import lucene\n",
    "from java.io import StringReader\n",
    "#from org.apache.lucene.analysis.ja import JapaneseAnalyzer\n",
    "from org.apache.lucene.analysis.standard import StandardAnalyzer, StandardTokenizer\n",
    "from org.apache.lucene.analysis.tokenattributes import CharTermAttribute\n",
    "lucene.initVM(vmargs=['-Djava.awt.headless=true'])"
   ]
  },
  {
   "cell_type": "markdown",
   "metadata": {},
   "source": [
    "This is a demo app"
   ]
  },
  {
   "cell_type": "code",
   "execution_count": 3,
   "metadata": {},
   "outputs": [
    {
     "name": "stdout",
     "output_type": "stream",
     "text": [
      "[u'This', u'is', u'how', u'we', u'do', u'it']\n",
      "[u'this', u'is', u'how', u'we', u'do', u'it']\n"
     ]
    }
   ],
   "source": [
    "\n",
    "\n",
    "\n",
    "# Basic tokenizer example.\n",
    "\n",
    "test = \"This is how we do it.\"\n",
    "tokenizer = StandardTokenizer()\n",
    "tokenizer.setReader(StringReader(test))\n",
    "charTermAttrib = tokenizer.getAttribute(CharTermAttribute.class_)\n",
    "tokenizer.reset()\n",
    "tokens = []\n",
    "while tokenizer.incrementToken():\n",
    "    tokens.append(charTermAttrib.toString())\n",
    "print(tokens)\n",
    "# StandardAnalyzer example.\n",
    "analyzer = StandardAnalyzer()\n",
    "stream = analyzer.tokenStream(\"\", StringReader(test))\n",
    "stream.reset()\n",
    "tokens = []\n",
    "while stream.incrementToken():\n",
    "    tokens.append(stream.getAttribute(CharTermAttribute.class_).toString())\n",
    "print(tokens)\n"
   ]
  },
  {
   "cell_type": "markdown",
   "metadata": {},
   "source": [
    "we try our index to query"
   ]
  },
  {
   "cell_type": "code",
   "execution_count": 11,
   "metadata": {},
   "outputs": [],
   "source": [
    "#import org.apache.lucene.document.Document\n",
    "from java.nio.file import Paths\n",
    "from org.apache.lucene.index import DirectoryReader\n",
    "from org.apache.lucene.search import IndexSearcher\n",
    "from org.apache.lucene.store import Directory\n",
    "from org.apache.lucene.store import FSDirectory"
   ]
  },
  {
   "cell_type": "code",
   "execution_count": 15,
   "metadata": {},
   "outputs": [
    {
     "ename": "JavaError",
     "evalue": "<super: <class 'JavaError'>, <JavaError object>>\n    Java stacktrace:\norg.apache.lucene.index.IndexNotFoundException: no segments* file found in MMapDirectory@/home/i3/git/WapoReportMining/index3 lockFactory=org.apache.lucene.store.NativeFSLockFactory@5a45133e: files: []\n\tat org.apache.lucene.index.SegmentInfos$FindSegmentsFile.run(SegmentInfos.java:675)\n\tat org.apache.lucene.index.StandardDirectoryReader.open(StandardDirectoryReader.java:84)\n\tat org.apache.lucene.index.DirectoryReader.open(DirectoryReader.java:76)\n\tat org.apache.lucene.index.DirectoryReader.open(DirectoryReader.java:64)\n",
     "output_type": "error",
     "traceback": [
      "\u001b[0;31m---------------------------------------------------------------------------\u001b[0m",
      "\u001b[0;31mJavaError\u001b[0m                                 Traceback (most recent call last)",
      "\u001b[0;32m<ipython-input-15-b8b46950333a>\u001b[0m in \u001b[0;36m<module>\u001b[0;34m()\u001b[0m\n\u001b[1;32m      1\u001b[0m \u001b[0;31m# Now search the index:\u001b[0m\u001b[0;34m\u001b[0m\u001b[0;34m\u001b[0m\u001b[0m\n\u001b[1;32m      2\u001b[0m \u001b[0mdirectory\u001b[0m \u001b[0;34m=\u001b[0m \u001b[0mFSDirectory\u001b[0m\u001b[0;34m.\u001b[0m\u001b[0mopen\u001b[0m\u001b[0;34m(\u001b[0m\u001b[0mPaths\u001b[0m\u001b[0;34m.\u001b[0m\u001b[0mget\u001b[0m\u001b[0;34m(\u001b[0m\u001b[0;34m\"/home/i3/git/WapoReportMining/index3/\"\u001b[0m\u001b[0;34m)\u001b[0m\u001b[0;34m)\u001b[0m\u001b[0;34m;\u001b[0m\u001b[0;34m\u001b[0m\u001b[0m\n\u001b[0;32m----> 3\u001b[0;31m \u001b[0mireader\u001b[0m \u001b[0;34m=\u001b[0m \u001b[0mDirectoryReader\u001b[0m\u001b[0;34m.\u001b[0m\u001b[0mopen\u001b[0m\u001b[0;34m(\u001b[0m\u001b[0mdirectory\u001b[0m\u001b[0;34m)\u001b[0m\u001b[0;34m;\u001b[0m\u001b[0;34m\u001b[0m\u001b[0m\n\u001b[0m\u001b[1;32m      4\u001b[0m \u001b[0misearcher\u001b[0m \u001b[0;34m=\u001b[0m \u001b[0mIndexSearcher\u001b[0m\u001b[0;34m(\u001b[0m\u001b[0mireader\u001b[0m\u001b[0;34m)\u001b[0m\u001b[0;34m;\u001b[0m\u001b[0;34m\u001b[0m\u001b[0m\n",
      "\u001b[0;31mJavaError\u001b[0m: <super: <class 'JavaError'>, <JavaError object>>\n    Java stacktrace:\norg.apache.lucene.index.IndexNotFoundException: no segments* file found in MMapDirectory@/home/i3/git/WapoReportMining/index3 lockFactory=org.apache.lucene.store.NativeFSLockFactory@5a45133e: files: []\n\tat org.apache.lucene.index.SegmentInfos$FindSegmentsFile.run(SegmentInfos.java:675)\n\tat org.apache.lucene.index.StandardDirectoryReader.open(StandardDirectoryReader.java:84)\n\tat org.apache.lucene.index.DirectoryReader.open(DirectoryReader.java:76)\n\tat org.apache.lucene.index.DirectoryReader.open(DirectoryReader.java:64)\n"
     ]
    }
   ],
   "source": [
    "# Now search the index:\n",
    "directory = FSDirectory.open(Paths.get(\"/home/i3/git/WapoReportMining/index3/\"));\n",
    "ireader = DirectoryReader.open(directory);\n",
    "isearcher = IndexSearcher(ireader);"
   ]
  },
  {
   "cell_type": "code",
   "execution_count": null,
   "metadata": {},
   "outputs": [],
   "source": []
  }
 ],
 "metadata": {
  "kernelspec": {
   "display_name": "Python 2",
   "language": "python",
   "name": "python2"
  },
  "language_info": {
   "codemirror_mode": {
    "name": "ipython",
    "version": 2
   },
   "file_extension": ".py",
   "mimetype": "text/x-python",
   "name": "python",
   "nbconvert_exporter": "python",
   "pygments_lexer": "ipython2",
   "version": "2.7.17"
  }
 },
 "nbformat": 4,
 "nbformat_minor": 2
}
